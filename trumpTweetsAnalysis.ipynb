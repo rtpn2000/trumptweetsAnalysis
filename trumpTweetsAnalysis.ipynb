{
 "cells": [
  {
   "cell_type": "markdown",
   "id": "dec27748",
   "metadata": {},
   "source": [
    "## Importing required libraries."
   ]
  },
  {
   "cell_type": "code",
   "execution_count": 1,
   "id": "3e9f2c6d",
   "metadata": {},
   "outputs": [],
   "source": [
    "import pandas as pd\n",
    "import numpy as np\n",
    "import matplotlib.pyplot as plt\n",
    "from datetime import date\n",
    "from textblob import TextBlob\n",
    "from nltk import word_tokenize, sent_tokenize\n",
    "from nltk.corpus import stopwords\n",
    "from collections import Counter\n",
    "import seaborn as sns\n",
    "import missingno as msno\n",
    "import re"
   ]
  },
  {
   "cell_type": "markdown",
   "id": "aa2343a0",
   "metadata": {},
   "source": [
    "## Libraries to be installed additionally - \n",
    "**1. missingno - pip install missingno**\n"
   ]
  },
  {
   "cell_type": "markdown",
   "id": "43671c53",
   "metadata": {},
   "source": [
    "## Reading the data."
   ]
  },
  {
   "cell_type": "code",
   "execution_count": 2,
   "id": "bf05bbb9",
   "metadata": {},
   "outputs": [],
   "source": [
    "data = pd.read_csv('Downloads/trump_20200530.csv')"
   ]
  },
  {
   "cell_type": "code",
   "execution_count": 3,
   "id": "3ee1fd73",
   "metadata": {},
   "outputs": [
    {
     "data": {
      "text/html": [
       "<div>\n",
       "<style scoped>\n",
       "    .dataframe tbody tr th:only-of-type {\n",
       "        vertical-align: middle;\n",
       "    }\n",
       "\n",
       "    .dataframe tbody tr th {\n",
       "        vertical-align: top;\n",
       "    }\n",
       "\n",
       "    .dataframe thead th {\n",
       "        text-align: right;\n",
       "    }\n",
       "</style>\n",
       "<table border=\"1\" class=\"dataframe\">\n",
       "  <thead>\n",
       "    <tr style=\"text-align: right;\">\n",
       "      <th></th>\n",
       "      <th>source</th>\n",
       "      <th>text</th>\n",
       "      <th>created_at</th>\n",
       "      <th>retweet_count</th>\n",
       "      <th>favorite_count</th>\n",
       "      <th>is_retweet</th>\n",
       "      <th>id_str</th>\n",
       "    </tr>\n",
       "  </thead>\n",
       "  <tbody>\n",
       "    <tr>\n",
       "      <th>0</th>\n",
       "      <td>Twitter for iPhone</td>\n",
       "      <td>RT @ScottAdamsSays: Malaria drug and zinc the ...</td>\n",
       "      <td>05-30-2020 03:26:31</td>\n",
       "      <td>10566</td>\n",
       "      <td>0</td>\n",
       "      <td>True</td>\n",
       "      <td>1266571665204527109</td>\n",
       "    </tr>\n",
       "    <tr>\n",
       "      <th>1</th>\n",
       "      <td>Twitter for iPhone</td>\n",
       "      <td>RT @YoungDems4Trump: In Democrat cities you ca...</td>\n",
       "      <td>05-30-2020 03:21:41</td>\n",
       "      <td>22320</td>\n",
       "      <td>0</td>\n",
       "      <td>True</td>\n",
       "      <td>1266570449431003138</td>\n",
       "    </tr>\n",
       "    <tr>\n",
       "      <th>2</th>\n",
       "      <td>Twitter for iPhone</td>\n",
       "      <td>RT @YoungDems4Trump: So sad. This poor busines...</td>\n",
       "      <td>05-30-2020 03:21:32</td>\n",
       "      <td>23961</td>\n",
       "      <td>0</td>\n",
       "      <td>True</td>\n",
       "      <td>1266570411678019584</td>\n",
       "    </tr>\n",
       "    <tr>\n",
       "      <th>3</th>\n",
       "      <td>Twitter for iPhone</td>\n",
       "      <td>Time for a change! #2020 https://t.co/AECy2GBfys</td>\n",
       "      <td>05-30-2020 03:20:18</td>\n",
       "      <td>42879</td>\n",
       "      <td>164022</td>\n",
       "      <td>False</td>\n",
       "      <td>1266570099454103553</td>\n",
       "    </tr>\n",
       "    <tr>\n",
       "      <th>4</th>\n",
       "      <td>Twitter for iPhone</td>\n",
       "      <td>RT @TallahForTrump: Trump spoke at my church i...</td>\n",
       "      <td>05-30-2020 03:19:01</td>\n",
       "      <td>36563</td>\n",
       "      <td>0</td>\n",
       "      <td>True</td>\n",
       "      <td>1266569778770182151</td>\n",
       "    </tr>\n",
       "  </tbody>\n",
       "</table>\n",
       "</div>"
      ],
      "text/plain": [
       "               source                                               text  \\\n",
       "0  Twitter for iPhone  RT @ScottAdamsSays: Malaria drug and zinc the ...   \n",
       "1  Twitter for iPhone  RT @YoungDems4Trump: In Democrat cities you ca...   \n",
       "2  Twitter for iPhone  RT @YoungDems4Trump: So sad. This poor busines...   \n",
       "3  Twitter for iPhone   Time for a change! #2020 https://t.co/AECy2GBfys   \n",
       "4  Twitter for iPhone  RT @TallahForTrump: Trump spoke at my church i...   \n",
       "\n",
       "            created_at  retweet_count  favorite_count is_retweet  \\\n",
       "0  05-30-2020 03:26:31          10566               0       True   \n",
       "1  05-30-2020 03:21:41          22320               0       True   \n",
       "2  05-30-2020 03:21:32          23961               0       True   \n",
       "3  05-30-2020 03:20:18          42879          164022      False   \n",
       "4  05-30-2020 03:19:01          36563               0       True   \n",
       "\n",
       "                id_str  \n",
       "0  1266571665204527109  \n",
       "1  1266570449431003138  \n",
       "2  1266570411678019584  \n",
       "3  1266570099454103553  \n",
       "4  1266569778770182151  "
      ]
     },
     "execution_count": 3,
     "metadata": {},
     "output_type": "execute_result"
    }
   ],
   "source": [
    "data.head()"
   ]
  },
  {
   "cell_type": "markdown",
   "id": "109d1a65",
   "metadata": {},
   "source": [
    "## Question 1 -\n",
    "\n",
    "**It is an important skill to look at the data and come up with questions that you can answer. What are some compelling questions that you can ask with the provided dataset (list at least 2 questions)?**"
   ]
  },
  {
   "cell_type": "markdown",
   "id": "d304314c",
   "metadata": {},
   "source": [
    "- From the head() method we can infer that the column :-\n",
    "\n",
    "    1. source         -      indicates the platform from which the tweet has been published (like andriod or iOS)\n",
    "    2. text           -      is the tweet itself.\n",
    "    3. created_at     -      the date and time of the tweet published.\n",
    "    4. retweet_count  -      number of times the tweet has been retweeted.\n",
    "    5. favorite_count -      the number of likes received by the tweet.\n",
    "    6. is_retweet     -      is the tweet retweeted (True/False).\n",
    "    7. id_str         -      id for each tweet.\n",
    "    "
   ]
  },
  {
   "cell_type": "markdown",
   "id": "76154ca6",
   "metadata": {},
   "source": [
    " - By looking at the dataset I think we can come up with questions like :-\n",
    "      - What was the overall sentiment of Trump's tweets during his presidency (given the timeperiod)?\n",
    "      - Which user's tweets were mostly retweeted?\n",
    "      - Which words did he use the most in his tweets?\n",
    "      - Which tweet was most liked/retweeted?\n",
    "      - In what year did he tweet the most?\n",
    "      - In which year most of his tweets had a positive tone?\n",
    "      - How are the tweets distributed over the given time frame? etc."
   ]
  },
  {
   "cell_type": "markdown",
   "id": "da3cd796",
   "metadata": {},
   "source": [
    "## Question 2 -\n",
    "\n",
    "**a) Write code to inspect the data. What do you observe? Along with the code, write your observation in the markdown cell.**"
   ]
  },
  {
   "cell_type": "code",
   "execution_count": 4,
   "id": "3d2a9db3",
   "metadata": {},
   "outputs": [
    {
     "data": {
      "text/plain": [
       "(18467, 7)"
      ]
     },
     "execution_count": 4,
     "metadata": {},
     "output_type": "execute_result"
    }
   ],
   "source": [
    "data.shape"
   ]
  },
  {
   "cell_type": "code",
   "execution_count": 5,
   "id": "05d29dd7",
   "metadata": {},
   "outputs": [
    {
     "name": "stdout",
     "output_type": "stream",
     "text": [
      "<class 'pandas.core.frame.DataFrame'>\n",
      "RangeIndex: 18467 entries, 0 to 18466\n",
      "Data columns (total 7 columns):\n",
      " #   Column          Non-Null Count  Dtype \n",
      "---  ------          --------------  ----- \n",
      " 0   source          18467 non-null  object\n",
      " 1   text            18467 non-null  object\n",
      " 2   created_at      18467 non-null  object\n",
      " 3   retweet_count   18467 non-null  int64 \n",
      " 4   favorite_count  18467 non-null  int64 \n",
      " 5   is_retweet      18409 non-null  object\n",
      " 6   id_str          18467 non-null  int64 \n",
      "dtypes: int64(3), object(4)\n",
      "memory usage: 1010.0+ KB\n"
     ]
    }
   ],
   "source": [
    "data.info()"
   ]
  },
  {
   "cell_type": "code",
   "execution_count": 6,
   "id": "b86d2186",
   "metadata": {},
   "outputs": [
    {
     "data": {
      "text/html": [
       "<div>\n",
       "<style scoped>\n",
       "    .dataframe tbody tr th:only-of-type {\n",
       "        vertical-align: middle;\n",
       "    }\n",
       "\n",
       "    .dataframe tbody tr th {\n",
       "        vertical-align: top;\n",
       "    }\n",
       "\n",
       "    .dataframe thead th {\n",
       "        text-align: right;\n",
       "    }\n",
       "</style>\n",
       "<table border=\"1\" class=\"dataframe\">\n",
       "  <thead>\n",
       "    <tr style=\"text-align: right;\">\n",
       "      <th></th>\n",
       "      <th>retweet_count</th>\n",
       "      <th>favorite_count</th>\n",
       "      <th>id_str</th>\n",
       "    </tr>\n",
       "  </thead>\n",
       "  <tbody>\n",
       "    <tr>\n",
       "      <th>count</th>\n",
       "      <td>18467.000000</td>\n",
       "      <td>18467.000000</td>\n",
       "      <td>1.846700e+04</td>\n",
       "    </tr>\n",
       "    <tr>\n",
       "      <th>mean</th>\n",
       "      <td>17753.247306</td>\n",
       "      <td>58623.881193</td>\n",
       "      <td>1.118379e+18</td>\n",
       "    </tr>\n",
       "    <tr>\n",
       "      <th>std</th>\n",
       "      <td>13060.852549</td>\n",
       "      <td>60661.448610</td>\n",
       "      <td>1.188340e+17</td>\n",
       "    </tr>\n",
       "    <tr>\n",
       "      <th>min</th>\n",
       "      <td>0.000000</td>\n",
       "      <td>0.000000</td>\n",
       "      <td>8.224214e+17</td>\n",
       "    </tr>\n",
       "    <tr>\n",
       "      <th>25%</th>\n",
       "      <td>9701.500000</td>\n",
       "      <td>0.000000</td>\n",
       "      <td>1.037514e+18</td>\n",
       "    </tr>\n",
       "    <tr>\n",
       "      <th>50%</th>\n",
       "      <td>15403.000000</td>\n",
       "      <td>57571.000000</td>\n",
       "      <td>1.156175e+18</td>\n",
       "    </tr>\n",
       "    <tr>\n",
       "      <th>75%</th>\n",
       "      <td>22469.000000</td>\n",
       "      <td>91086.500000</td>\n",
       "      <td>1.214196e+18</td>\n",
       "    </tr>\n",
       "    <tr>\n",
       "      <th>max</th>\n",
       "      <td>369530.000000</td>\n",
       "      <td>879647.000000</td>\n",
       "      <td>1.266572e+18</td>\n",
       "    </tr>\n",
       "  </tbody>\n",
       "</table>\n",
       "</div>"
      ],
      "text/plain": [
       "       retweet_count  favorite_count        id_str\n",
       "count   18467.000000    18467.000000  1.846700e+04\n",
       "mean    17753.247306    58623.881193  1.118379e+18\n",
       "std     13060.852549    60661.448610  1.188340e+17\n",
       "min         0.000000        0.000000  8.224214e+17\n",
       "25%      9701.500000        0.000000  1.037514e+18\n",
       "50%     15403.000000    57571.000000  1.156175e+18\n",
       "75%     22469.000000    91086.500000  1.214196e+18\n",
       "max    369530.000000   879647.000000  1.266572e+18"
      ]
     },
     "execution_count": 6,
     "metadata": {},
     "output_type": "execute_result"
    }
   ],
   "source": [
    "data.describe()"
   ]
  },
  {
   "cell_type": "code",
   "execution_count": 7,
   "id": "82144de8",
   "metadata": {},
   "outputs": [
    {
     "data": {
      "text/plain": [
       "source                8\n",
       "text              18246\n",
       "created_at        18053\n",
       "retweet_count     14010\n",
       "favorite_count    11561\n",
       "is_retweet            2\n",
       "id_str            18467\n",
       "dtype: int64"
      ]
     },
     "execution_count": 7,
     "metadata": {},
     "output_type": "execute_result"
    }
   ],
   "source": [
    "data.nunique()"
   ]
  },
  {
   "cell_type": "code",
   "execution_count": 8,
   "id": "5b2642b9",
   "metadata": {},
   "outputs": [
    {
     "name": "stdout",
     "output_type": "stream",
     "text": [
      "source             0\n",
      "text               0\n",
      "created_at         0\n",
      "retweet_count      0\n",
      "favorite_count     0\n",
      "is_retweet        58\n",
      "id_str             0\n",
      "dtype: int64\n"
     ]
    }
   ],
   "source": [
    "print(data.isnull().sum())"
   ]
  },
  {
   "cell_type": "code",
   "execution_count": 9,
   "id": "2134db96",
   "metadata": {},
   "outputs": [
    {
     "data": {
      "text/plain": [
       "<Axes: >"
      ]
     },
     "execution_count": 9,
     "metadata": {},
     "output_type": "execute_result"
    },
    {
     "data": {
      "image/png": "[encoded data removed]",
      "text/plain": [
       "<Figure size 1000x600 with 3 Axes>"
      ]
     },
     "metadata": {},
     "output_type": "display_data"
    }
   ],
   "source": [
    "msno.bar(data, color='orange', figsize=(10,6))"
   ]
  },
  {
   "cell_type": "markdown",
   "id": "c0cb9556",
   "metadata": {},
   "source": [
    "**\"missigno\" is a python library that allows to provide a series of visualisations to understand the presence and distribution of missing data within a pandas dataframe.**"
   ]
  },
  {
   "cell_type": "markdown",
   "id": "c4e3d222",
   "metadata": {},
   "source": [
    "**Observations -**\n",
    "\n",
    "1. From the inspection above we can see that the dataset has 18467 rows and 7 columns.\n",
    "\n",
    "2. From the describe() method we can see that the minimum value and standard deviation for the dataset is 0 and that is            acceptable.\n",
    "    \n",
    "3. Using the info() method we get to know the exact datatypes of each column in the dataset. \n",
    "    - We can observe that there are 3 columns of int datatype and 4 columns of object datatype.\n",
    "    - Also the 'created_at' column indicates the date and time of the tweet published so it should be of the datatype-datetime.\n",
    "      So it should be converted to (datetime) datatype instead of (object) datatype.\n",
    "      \n",
    "  \n",
    "4. We can see the unique values present in each column using .nunique() method.\n",
    "     \n",
    "5. From the info() method we can also infer that the column 'is_retweet' has some missing values i.e 18409 values whereas the      remaining columns match the shape() result.\n",
    "   Therefore we use isnull() method to extract the exact number of rows missing - 58.\n",
    "   So we need to deal with these missing values as well."
   ]
  },
  {
   "cell_type": "markdown",
   "id": "3d9c31b2",
   "metadata": {},
   "source": [
    "## Question 2 -\n",
    "\n",
    "**b) Clean: Write code to clean the data. Use at least 5 methods. For each method, along\n",
    " with the code, you need to write the rationale behind the cleaning process. For this\n",
    " question, you can assume that you are solving one of the questions that you wrote for\n",
    " the first question.**"
   ]
  },
  {
   "cell_type": "markdown",
   "id": "ad3a2335",
   "metadata": {},
   "source": [
    "**1. Converting the 'created_at' column from object datatype to datetime datatype.**\n",
    "\n",
    "- Feature Engineering - \n",
    "    Each column should be associated to an appropriate datatype as it would affect the calculations and visualizations."
   ]
  },
  {
   "cell_type": "code",
   "execution_count": 10,
   "id": "a14c7fab",
   "metadata": {},
   "outputs": [
    {
     "name": "stdout",
     "output_type": "stream",
     "text": [
      "<class 'pandas.core.frame.DataFrame'>\n",
      "RangeIndex: 18467 entries, 0 to 18466\n",
      "Data columns (total 7 columns):\n",
      " #   Column          Non-Null Count  Dtype \n",
      "---  ------          --------------  ----- \n",
      " 0   source          18467 non-null  object\n",
      " 1   text            18467 non-null  object\n",
      " 2   created_at      18467 non-null  object\n",
      " 3   retweet_count   18467 non-null  int64 \n",
      " 4   favorite_count  18467 non-null  int64 \n",
      " 5   is_retweet      18409 non-null  object\n",
      " 6   id_str          18467 non-null  int64 \n",
      "dtypes: int64(3), object(4)\n",
      "memory usage: 1010.0+ KB\n"
     ]
    }
   ],
   "source": [
    "data.info()"
   ]
  },
  {
   "cell_type": "code",
   "execution_count": 11,
   "id": "46fc0797",
   "metadata": {},
   "outputs": [],
   "source": [
    "data['created_at'] = pd.to_datetime(data['created_at'])"
   ]
  },
  {
   "cell_type": "code",
   "execution_count": 12,
   "id": "cb0e227d",
   "metadata": {},
   "outputs": [
    {
     "name": "stdout",
     "output_type": "stream",
     "text": [
      "<class 'pandas.core.frame.DataFrame'>\n",
      "RangeIndex: 18467 entries, 0 to 18466\n",
      "Data columns (total 7 columns):\n",
      " #   Column          Non-Null Count  Dtype         \n",
      "---  ------          --------------  -----         \n",
      " 0   source          18467 non-null  object        \n",
      " 1   text            18467 non-null  object        \n",
      " 2   created_at      18467 non-null  datetime64[ns]\n",
      " 3   retweet_count   18467 non-null  int64         \n",
      " 4   favorite_count  18467 non-null  int64         \n",
      " 5   is_retweet      18409 non-null  object        \n",
      " 6   id_str          18467 non-null  int64         \n",
      "dtypes: datetime64[ns](1), int64(3), object(3)\n",
      "memory usage: 1010.0+ KB\n"
     ]
    }
   ],
   "source": [
    "data.info()"
   ]
  },
  {
   "cell_type": "code",
   "execution_count": 13,
   "id": "5b66d444",
   "metadata": {},
   "outputs": [
    {
     "name": "stdout",
     "output_type": "stream",
     "text": [
      "2017-01-20 12:31:53\n",
      "2020-05-30 03:26:31\n"
     ]
    }
   ],
   "source": [
    "print(data['created_at'].min())\n",
    "print(data['created_at'].max())"
   ]
  },
  {
   "cell_type": "markdown",
   "id": "a0e6da60",
   "metadata": {},
   "source": [
    "**As the problem statement said that it contains President Trump's tweets from the day he took office. We just made sure that the conversion didn't hinder our dataset's range.**"
   ]
  },
  {
   "cell_type": "markdown",
   "id": "f56ae580",
   "metadata": {},
   "source": [
    "**2. Dealing with the missing values.**"
   ]
  },
  {
   "cell_type": "code",
   "execution_count": 14,
   "id": "d18d0d6e",
   "metadata": {},
   "outputs": [
    {
     "name": "stdout",
     "output_type": "stream",
     "text": [
      "source             0\n",
      "text               0\n",
      "created_at         0\n",
      "retweet_count      0\n",
      "favorite_count     0\n",
      "is_retweet        58\n",
      "id_str             0\n",
      "dtype: int64\n"
     ]
    }
   ],
   "source": [
    "print(data.isnull().sum())"
   ]
  },
  {
   "cell_type": "code",
   "execution_count": 15,
   "id": "8fd20ee6",
   "metadata": {},
   "outputs": [
    {
     "data": {
      "text/plain": [
       "(18467, 7)"
      ]
     },
     "execution_count": 15,
     "metadata": {},
     "output_type": "execute_result"
    }
   ],
   "source": [
    "data.shape"
   ]
  },
  {
   "cell_type": "code",
   "execution_count": 16,
   "id": "7bf90746",
   "metadata": {},
   "outputs": [],
   "source": [
    "data = data.dropna()"
   ]
  },
  {
   "cell_type": "code",
   "execution_count": 17,
   "id": "0f9feabc",
   "metadata": {},
   "outputs": [
    {
     "data": {
      "text/plain": [
       "(18409, 7)"
      ]
     },
     "execution_count": 17,
     "metadata": {},
     "output_type": "execute_result"
    }
   ],
   "source": [
    "data.shape"
   ]
  },
  {
   "cell_type": "markdown",
   "id": "c43254a3",
   "metadata": {},
   "source": [
    "- **The new shape of the dataframe after dropping the rows with null values.**"
   ]
  },
  {
   "cell_type": "code",
   "execution_count": 18,
   "id": "212a1e3a",
   "metadata": {},
   "outputs": [
    {
     "data": {
      "text/plain": [
       "source            0\n",
       "text              0\n",
       "created_at        0\n",
       "retweet_count     0\n",
       "favorite_count    0\n",
       "is_retweet        0\n",
       "id_str            0\n",
       "dtype: int64"
      ]
     },
     "execution_count": 18,
     "metadata": {},
     "output_type": "execute_result"
    }
   ],
   "source": [
    "data.isnull().sum()"
   ]
  },
  {
   "cell_type": "markdown",
   "id": "7b02b000",
   "metadata": {},
   "source": [
    "- **As we can see we have 58 rows in the dataframe which have their 'is_retweet' column value as 'null'. Considering our dataset being large enough we can simply drop the rows having the null values.**"
   ]
  },
  {
   "cell_type": "markdown",
   "id": "d67bc5df",
   "metadata": {},
   "source": [
    "**3. Dropping irrelevant columns. (id_str)**\n",
    "- I personally believe that as we are dealing with a dataset that has been produced from a single user and the column 'id_str' is irrelevant in this scenario. Because all of the tweets have been from a single user account, however they can be distinguished on thier published platform."
   ]
  },
  {
   "cell_type": "code",
   "execution_count": 19,
   "id": "41955ff7",
   "metadata": {},
   "outputs": [],
   "source": [
    "data = data.drop(['id_str'], axis=1)"
   ]
  },
  {
   "cell_type": "code",
   "execution_count": 20,
   "id": "af9671cc",
   "metadata": {},
   "outputs": [
    {
     "data": {
      "text/plain": [
       "(18409, 6)"
      ]
     },
     "execution_count": 20,
     "metadata": {},
     "output_type": "execute_result"
    }
   ],
   "source": [
    "data.shape"
   ]
  },
  {
   "cell_type": "code",
   "execution_count": 21,
   "id": "5f228ba2",
   "metadata": {},
   "outputs": [
    {
     "data": {
      "text/html": [
       "<div>\n",
       "<style scoped>\n",
       "    .dataframe tbody tr th:only-of-type {\n",
       "        vertical-align: middle;\n",
       "    }\n",
       "\n",
       "    .dataframe tbody tr th {\n",
       "        vertical-align: top;\n",
       "    }\n",
       "\n",
       "    .dataframe thead th {\n",
       "        text-align: right;\n",
       "    }\n",
       "</style>\n",
       "<table border=\"1\" class=\"dataframe\">\n",
       "  <thead>\n",
       "    <tr style=\"text-align: right;\">\n",
       "      <th></th>\n",
       "      <th>source</th>\n",
       "      <th>text</th>\n",
       "      <th>created_at</th>\n",
       "      <th>retweet_count</th>\n",
       "      <th>favorite_count</th>\n",
       "      <th>is_retweet</th>\n",
       "    </tr>\n",
       "  </thead>\n",
       "  <tbody>\n",
       "    <tr>\n",
       "      <th>0</th>\n",
       "      <td>Twitter for iPhone</td>\n",
       "      <td>RT @ScottAdamsSays: Malaria drug and zinc the ...</td>\n",
       "      <td>2020-05-30 03:26:31</td>\n",
       "      <td>10566</td>\n",
       "      <td>0</td>\n",
       "      <td>True</td>\n",
       "    </tr>\n",
       "    <tr>\n",
       "      <th>1</th>\n",
       "      <td>Twitter for iPhone</td>\n",
       "      <td>RT @YoungDems4Trump: In Democrat cities you ca...</td>\n",
       "      <td>2020-05-30 03:21:41</td>\n",
       "      <td>22320</td>\n",
       "      <td>0</td>\n",
       "      <td>True</td>\n",
       "    </tr>\n",
       "    <tr>\n",
       "      <th>2</th>\n",
       "      <td>Twitter for iPhone</td>\n",
       "      <td>RT @YoungDems4Trump: So sad. This poor busines...</td>\n",
       "      <td>2020-05-30 03:21:32</td>\n",
       "      <td>23961</td>\n",
       "      <td>0</td>\n",
       "      <td>True</td>\n",
       "    </tr>\n",
       "    <tr>\n",
       "      <th>3</th>\n",
       "      <td>Twitter for iPhone</td>\n",
       "      <td>Time for a change! #2020 https://t.co/AECy2GBfys</td>\n",
       "      <td>2020-05-30 03:20:18</td>\n",
       "      <td>42879</td>\n",
       "      <td>164022</td>\n",
       "      <td>False</td>\n",
       "    </tr>\n",
       "    <tr>\n",
       "      <th>4</th>\n",
       "      <td>Twitter for iPhone</td>\n",
       "      <td>RT @TallahForTrump: Trump spoke at my church i...</td>\n",
       "      <td>2020-05-30 03:19:01</td>\n",
       "      <td>36563</td>\n",
       "      <td>0</td>\n",
       "      <td>True</td>\n",
       "    </tr>\n",
       "  </tbody>\n",
       "</table>\n",
       "</div>"
      ],
      "text/plain": [
       "               source                                               text  \\\n",
       "0  Twitter for iPhone  RT @ScottAdamsSays: Malaria drug and zinc the ...   \n",
       "1  Twitter for iPhone  RT @YoungDems4Trump: In Democrat cities you ca...   \n",
       "2  Twitter for iPhone  RT @YoungDems4Trump: So sad. This poor busines...   \n",
       "3  Twitter for iPhone   Time for a change! #2020 https://t.co/AECy2GBfys   \n",
       "4  Twitter for iPhone  RT @TallahForTrump: Trump spoke at my church i...   \n",
       "\n",
       "           created_at  retweet_count  favorite_count is_retweet  \n",
       "0 2020-05-30 03:26:31          10566               0       True  \n",
       "1 2020-05-30 03:21:41          22320               0       True  \n",
       "2 2020-05-30 03:21:32          23961               0       True  \n",
       "3 2020-05-30 03:20:18          42879          164022      False  \n",
       "4 2020-05-30 03:19:01          36563               0       True  "
      ]
     },
     "execution_count": 21,
     "metadata": {},
     "output_type": "execute_result"
    }
   ],
   "source": [
    "data.head()"
   ]
  },
  {
   "cell_type": "markdown",
   "id": "a9c5a972",
   "metadata": {},
   "source": [
    "**4- Converting the tweet data (text column) in the dataframe to lowercase.**\n",
    " - As we would be mainly focusing on the tweets that is the the text column for    analyzing the sentiment as well as to perform other tasks on this tweet data.\n",
    "   Therefore, we need this data to be consistent so that performing any other      tasks on this tweet data to be smooth."
   ]
  },
  {
   "cell_type": "code",
   "execution_count": 22,
   "id": "55d8e0d3",
   "metadata": {},
   "outputs": [],
   "source": [
    "data['text'] = data['text'].str.lower()"
   ]
  },
  {
   "cell_type": "code",
   "execution_count": 23,
   "id": "08bee872",
   "metadata": {},
   "outputs": [
    {
     "data": {
      "text/html": [
       "<div>\n",
       "<style scoped>\n",
       "    .dataframe tbody tr th:only-of-type {\n",
       "        vertical-align: middle;\n",
       "    }\n",
       "\n",
       "    .dataframe tbody tr th {\n",
       "        vertical-align: top;\n",
       "    }\n",
       "\n",
       "    .dataframe thead th {\n",
       "        text-align: right;\n",
       "    }\n",
       "</style>\n",
       "<table border=\"1\" class=\"dataframe\">\n",
       "  <thead>\n",
       "    <tr style=\"text-align: right;\">\n",
       "      <th></th>\n",
       "      <th>source</th>\n",
       "      <th>text</th>\n",
       "      <th>created_at</th>\n",
       "      <th>retweet_count</th>\n",
       "      <th>favorite_count</th>\n",
       "      <th>is_retweet</th>\n",
       "    </tr>\n",
       "  </thead>\n",
       "  <tbody>\n",
       "    <tr>\n",
       "      <th>0</th>\n",
       "      <td>Twitter for iPhone</td>\n",
       "      <td>rt @scottadamssays: malaria drug and zinc the ...</td>\n",
       "      <td>2020-05-30 03:26:31</td>\n",
       "      <td>10566</td>\n",
       "      <td>0</td>\n",
       "      <td>True</td>\n",
       "    </tr>\n",
       "    <tr>\n",
       "      <th>1</th>\n",
       "      <td>Twitter for iPhone</td>\n",
       "      <td>rt @youngdems4trump: in democrat cities you ca...</td>\n",
       "      <td>2020-05-30 03:21:41</td>\n",
       "      <td>22320</td>\n",
       "      <td>0</td>\n",
       "      <td>True</td>\n",
       "    </tr>\n",
       "    <tr>\n",
       "      <th>2</th>\n",
       "      <td>Twitter for iPhone</td>\n",
       "      <td>rt @youngdems4trump: so sad. this poor busines...</td>\n",
       "      <td>2020-05-30 03:21:32</td>\n",
       "      <td>23961</td>\n",
       "      <td>0</td>\n",
       "      <td>True</td>\n",
       "    </tr>\n",
       "    <tr>\n",
       "      <th>3</th>\n",
       "      <td>Twitter for iPhone</td>\n",
       "      <td>time for a change! #2020 https://t.co/aecy2gbfys</td>\n",
       "      <td>2020-05-30 03:20:18</td>\n",
       "      <td>42879</td>\n",
       "      <td>164022</td>\n",
       "      <td>False</td>\n",
       "    </tr>\n",
       "    <tr>\n",
       "      <th>4</th>\n",
       "      <td>Twitter for iPhone</td>\n",
       "      <td>rt @tallahfortrump: trump spoke at my church i...</td>\n",
       "      <td>2020-05-30 03:19:01</td>\n",
       "      <td>36563</td>\n",
       "      <td>0</td>\n",
       "      <td>True</td>\n",
       "    </tr>\n",
       "  </tbody>\n",
       "</table>\n",
       "</div>"
      ],
      "text/plain": [
       "               source                                               text  \\\n",
       "0  Twitter for iPhone  rt @scottadamssays: malaria drug and zinc the ...   \n",
       "1  Twitter for iPhone  rt @youngdems4trump: in democrat cities you ca...   \n",
       "2  Twitter for iPhone  rt @youngdems4trump: so sad. this poor busines...   \n",
       "3  Twitter for iPhone   time for a change! #2020 https://t.co/aecy2gbfys   \n",
       "4  Twitter for iPhone  rt @tallahfortrump: trump spoke at my church i...   \n",
       "\n",
       "           created_at  retweet_count  favorite_count is_retweet  \n",
       "0 2020-05-30 03:26:31          10566               0       True  \n",
       "1 2020-05-30 03:21:41          22320               0       True  \n",
       "2 2020-05-30 03:21:32          23961               0       True  \n",
       "3 2020-05-30 03:20:18          42879          164022      False  \n",
       "4 2020-05-30 03:19:01          36563               0       True  "
      ]
     },
     "execution_count": 23,
     "metadata": {},
     "output_type": "execute_result"
    }
   ],
   "source": [
    "data.head()"
   ]
  },
  {
   "cell_type": "markdown",
   "id": "68954fb2",
   "metadata": {},
   "source": [
    "**5- Removing all the special characters (including any url's) in the tweet data (text column).**\n",
    "   - To analyze the sentiment from the tweets we need to clean the text.\n",
    "   - Therefore, eliminating the special characters from the data."
   ]
  },
  {
   "cell_type": "markdown",
   "id": "100eac02",
   "metadata": {},
   "source": [
    "**Dealing with URL's**"
   ]
  },
  {
   "cell_type": "code",
   "execution_count": 24,
   "id": "0316c5d4",
   "metadata": {},
   "outputs": [
    {
     "name": "stderr",
     "output_type": "stream",
     "text": [
      "C:\\Users\\rtpn2\\AppData\\Local\\Temp\\ipykernel_21440\\2485292843.py:1: FutureWarning: The default value of regex will change from True to False in a future version.\n",
      "  data['text'] = data['text'].str.replace('http[s]?://(?:[a-zA-Z]|[0-9]|[$-_@.&+]|[!*\\(\\),]|(?:%[0-9a-fA-F][0-9a-fA-F]))+', ' ')\n"
     ]
    }
   ],
   "source": [
    "data['text'] = data['text'].str.replace('http[s]?://(?:[a-zA-Z]|[0-9]|[$-_@.&+]|[!*\\(\\),]|(?:%[0-9a-fA-F][0-9a-fA-F]))+', ' ')"
   ]
  },
  {
   "cell_type": "markdown",
   "id": "a4ae6220",
   "metadata": {},
   "source": [
    "**Dealing with the special characters**"
   ]
  },
  {
   "cell_type": "code",
   "execution_count": 25,
   "id": "e0156141",
   "metadata": {},
   "outputs": [
    {
     "name": "stderr",
     "output_type": "stream",
     "text": [
      "C:\\Users\\rtpn2\\AppData\\Local\\Temp\\ipykernel_21440\\2025530792.py:1: FutureWarning: The default value of regex will change from True to False in a future version.\n",
      "  data['text'] = data['text'].str.replace(r\"[\\\"\\'\\|\\?\\=\\.\\@\\#\\*\\,:]\", '')\n"
     ]
    }
   ],
   "source": [
    "data['text'] = data['text'].str.replace(r\"[\\\"\\'\\|\\?\\=\\.\\@\\#\\*\\,:]\", '')"
   ]
  },
  {
   "cell_type": "code",
   "execution_count": 26,
   "id": "920faf5e",
   "metadata": {},
   "outputs": [
    {
     "data": {
      "text/html": [
       "<div>\n",
       "<style scoped>\n",
       "    .dataframe tbody tr th:only-of-type {\n",
       "        vertical-align: middle;\n",
       "    }\n",
       "\n",
       "    .dataframe tbody tr th {\n",
       "        vertical-align: top;\n",
       "    }\n",
       "\n",
       "    .dataframe thead th {\n",
       "        text-align: right;\n",
       "    }\n",
       "</style>\n",
       "<table border=\"1\" class=\"dataframe\">\n",
       "  <thead>\n",
       "    <tr style=\"text-align: right;\">\n",
       "      <th></th>\n",
       "      <th>source</th>\n",
       "      <th>text</th>\n",
       "      <th>created_at</th>\n",
       "      <th>retweet_count</th>\n",
       "      <th>favorite_count</th>\n",
       "      <th>is_retweet</th>\n",
       "    </tr>\n",
       "  </thead>\n",
       "  <tbody>\n",
       "    <tr>\n",
       "      <th>0</th>\n",
       "      <td>Twitter for iPhone</td>\n",
       "      <td>rt scottadamssays malaria drug and zinc the mi...</td>\n",
       "      <td>2020-05-30 03:26:31</td>\n",
       "      <td>10566</td>\n",
       "      <td>0</td>\n",
       "      <td>True</td>\n",
       "    </tr>\n",
       "    <tr>\n",
       "      <th>1</th>\n",
       "      <td>Twitter for iPhone</td>\n",
       "      <td>rt youngdems4trump in democrat cities you can ...</td>\n",
       "      <td>2020-05-30 03:21:41</td>\n",
       "      <td>22320</td>\n",
       "      <td>0</td>\n",
       "      <td>True</td>\n",
       "    </tr>\n",
       "    <tr>\n",
       "      <th>2</th>\n",
       "      <td>Twitter for iPhone</td>\n",
       "      <td>rt youngdems4trump so sad this poor business o...</td>\n",
       "      <td>2020-05-30 03:21:32</td>\n",
       "      <td>23961</td>\n",
       "      <td>0</td>\n",
       "      <td>True</td>\n",
       "    </tr>\n",
       "    <tr>\n",
       "      <th>3</th>\n",
       "      <td>Twitter for iPhone</td>\n",
       "      <td>time for a change! 2020</td>\n",
       "      <td>2020-05-30 03:20:18</td>\n",
       "      <td>42879</td>\n",
       "      <td>164022</td>\n",
       "      <td>False</td>\n",
       "    </tr>\n",
       "    <tr>\n",
       "      <th>4</th>\n",
       "      <td>Twitter for iPhone</td>\n",
       "      <td>rt tallahfortrump trump spoke at my church in ...</td>\n",
       "      <td>2020-05-30 03:19:01</td>\n",
       "      <td>36563</td>\n",
       "      <td>0</td>\n",
       "      <td>True</td>\n",
       "    </tr>\n",
       "  </tbody>\n",
       "</table>\n",
       "</div>"
      ],
      "text/plain": [
       "               source                                               text  \\\n",
       "0  Twitter for iPhone  rt scottadamssays malaria drug and zinc the mi...   \n",
       "1  Twitter for iPhone  rt youngdems4trump in democrat cities you can ...   \n",
       "2  Twitter for iPhone  rt youngdems4trump so sad this poor business o...   \n",
       "3  Twitter for iPhone                          time for a change! 2020     \n",
       "4  Twitter for iPhone  rt tallahfortrump trump spoke at my church in ...   \n",
       "\n",
       "           created_at  retweet_count  favorite_count is_retweet  \n",
       "0 2020-05-30 03:26:31          10566               0       True  \n",
       "1 2020-05-30 03:21:41          22320               0       True  \n",
       "2 2020-05-30 03:21:32          23961               0       True  \n",
       "3 2020-05-30 03:20:18          42879          164022      False  \n",
       "4 2020-05-30 03:19:01          36563               0       True  "
      ]
     },
     "execution_count": 26,
     "metadata": {},
     "output_type": "execute_result"
    }
   ],
   "source": [
    "data.head()"
   ]
  },
  {
   "cell_type": "markdown",
   "id": "1d8636c2",
   "metadata": {},
   "source": [
    "**6 - Removing stopwords.**\n",
    " - Firstly, stopwords are the words which provide is the very low-level information about the tone of a sentence.\n",
    " - These must be removed in order to focus on the words which mainly decide for the tone of the statement especially in this      sentiment analysis problem.\n",
    " - We will be adding an extra stopword called 'rt' so as to emphasize on the      tweet ignoring any other stopwords and also we have a column called            ['is_retweet'] which tells us whether the tweet is a retweet or not."
   ]
  },
  {
   "cell_type": "code",
   "execution_count": 27,
   "id": "58abf331",
   "metadata": {},
   "outputs": [],
   "source": [
    "extraStopword = [\"rt\"]"
   ]
  },
  {
   "cell_type": "code",
   "execution_count": 28,
   "id": "b2726404",
   "metadata": {},
   "outputs": [],
   "source": [
    "STOPWORDS = stopwords.words('english')"
   ]
  },
  {
   "cell_type": "code",
   "execution_count": 29,
   "id": "b67c71af",
   "metadata": {},
   "outputs": [],
   "source": [
    "STOPWORDS.extend(extraStopword)"
   ]
  },
  {
   "cell_type": "code",
   "execution_count": 30,
   "id": "003ad407",
   "metadata": {},
   "outputs": [
    {
     "data": {
      "text/html": [
       "<div>\n",
       "<style scoped>\n",
       "    .dataframe tbody tr th:only-of-type {\n",
       "        vertical-align: middle;\n",
       "    }\n",
       "\n",
       "    .dataframe tbody tr th {\n",
       "        vertical-align: top;\n",
       "    }\n",
       "\n",
       "    .dataframe thead th {\n",
       "        text-align: right;\n",
       "    }\n",
       "</style>\n",
       "<table border=\"1\" class=\"dataframe\">\n",
       "  <thead>\n",
       "    <tr style=\"text-align: right;\">\n",
       "      <th></th>\n",
       "      <th>source</th>\n",
       "      <th>text</th>\n",
       "      <th>created_at</th>\n",
       "      <th>retweet_count</th>\n",
       "      <th>favorite_count</th>\n",
       "      <th>is_retweet</th>\n",
       "    </tr>\n",
       "  </thead>\n",
       "  <tbody>\n",
       "    <tr>\n",
       "      <th>0</th>\n",
       "      <td>Twitter for iPhone</td>\n",
       "      <td>scottadamssays malaria drug zinc missing link ...</td>\n",
       "      <td>2020-05-30 03:26:31</td>\n",
       "      <td>10566</td>\n",
       "      <td>0</td>\n",
       "      <td>True</td>\n",
       "    </tr>\n",
       "    <tr>\n",
       "      <th>1</th>\n",
       "      <td>Twitter for iPhone</td>\n",
       "      <td>youngdems4trump democrat cities get arrested o...</td>\n",
       "      <td>2020-05-30 03:21:41</td>\n",
       "      <td>22320</td>\n",
       "      <td>0</td>\n",
       "      <td>True</td>\n",
       "    </tr>\n",
       "    <tr>\n",
       "      <th>2</th>\n",
       "      <td>Twitter for iPhone</td>\n",
       "      <td>youngdems4trump sad poor business owner lost e...</td>\n",
       "      <td>2020-05-30 03:21:32</td>\n",
       "      <td>23961</td>\n",
       "      <td>0</td>\n",
       "      <td>True</td>\n",
       "    </tr>\n",
       "    <tr>\n",
       "      <th>3</th>\n",
       "      <td>Twitter for iPhone</td>\n",
       "      <td>time change! 2020</td>\n",
       "      <td>2020-05-30 03:20:18</td>\n",
       "      <td>42879</td>\n",
       "      <td>164022</td>\n",
       "      <td>False</td>\n",
       "    </tr>\n",
       "    <tr>\n",
       "      <th>4</th>\n",
       "      <td>Twitter for iPhone</td>\n",
       "      <td>tallahfortrump trump spoke church detroit open...</td>\n",
       "      <td>2020-05-30 03:19:01</td>\n",
       "      <td>36563</td>\n",
       "      <td>0</td>\n",
       "      <td>True</td>\n",
       "    </tr>\n",
       "    <tr>\n",
       "      <th>...</th>\n",
       "      <td>...</td>\n",
       "      <td>...</td>\n",
       "      <td>...</td>\n",
       "      <td>...</td>\n",
       "      <td>...</td>\n",
       "      <td>...</td>\n",
       "    </tr>\n",
       "    <tr>\n",
       "      <th>18462</th>\n",
       "      <td>Twitter for iPhone</td>\n",
       "      <td>january 20th 2017 remembered day people became...</td>\n",
       "      <td>2017-01-20 17:53:17</td>\n",
       "      <td>60604</td>\n",
       "      <td>218555</td>\n",
       "      <td>False</td>\n",
       "    </tr>\n",
       "    <tr>\n",
       "      <th>18463</th>\n",
       "      <td>Twitter for iPhone</td>\n",
       "      <td>truly matters party controls government whethe...</td>\n",
       "      <td>2017-01-20 17:52:45</td>\n",
       "      <td>42790</td>\n",
       "      <td>180394</td>\n",
       "      <td>False</td>\n",
       "    </tr>\n",
       "    <tr>\n",
       "      <th>18464</th>\n",
       "      <td>Twitter for iPhone</td>\n",
       "      <td>power washington dc giving back american peopl...</td>\n",
       "      <td>2017-01-20 17:51:58</td>\n",
       "      <td>18362</td>\n",
       "      <td>91143</td>\n",
       "      <td>False</td>\n",
       "    </tr>\n",
       "    <tr>\n",
       "      <th>18465</th>\n",
       "      <td>Twitter for iPhone</td>\n",
       "      <td>today merely transferring power one administra...</td>\n",
       "      <td>2017-01-20 17:51:25</td>\n",
       "      <td>20125</td>\n",
       "      <td>109640</td>\n",
       "      <td>False</td>\n",
       "    </tr>\n",
       "    <tr>\n",
       "      <th>18466</th>\n",
       "      <td>Twitter for Android</td>\n",
       "      <td>begins today! see 1100 swearing-in movement co...</td>\n",
       "      <td>2017-01-20 12:31:53</td>\n",
       "      <td>70523</td>\n",
       "      <td>268372</td>\n",
       "      <td>False</td>\n",
       "    </tr>\n",
       "  </tbody>\n",
       "</table>\n",
       "<p>18409 rows × 6 columns</p>\n",
       "</div>"
      ],
      "text/plain": [
       "                    source                                               text  \\\n",
       "0       Twitter for iPhone  scottadamssays malaria drug zinc missing link ...   \n",
       "1       Twitter for iPhone  youngdems4trump democrat cities get arrested o...   \n",
       "2       Twitter for iPhone  youngdems4trump sad poor business owner lost e...   \n",
       "3       Twitter for iPhone                                  time change! 2020   \n",
       "4       Twitter for iPhone  tallahfortrump trump spoke church detroit open...   \n",
       "...                    ...                                                ...   \n",
       "18462   Twitter for iPhone  january 20th 2017 remembered day people became...   \n",
       "18463   Twitter for iPhone  truly matters party controls government whethe...   \n",
       "18464   Twitter for iPhone  power washington dc giving back american peopl...   \n",
       "18465   Twitter for iPhone  today merely transferring power one administra...   \n",
       "18466  Twitter for Android  begins today! see 1100 swearing-in movement co...   \n",
       "\n",
       "               created_at  retweet_count  favorite_count is_retweet  \n",
       "0     2020-05-30 03:26:31          10566               0       True  \n",
       "1     2020-05-30 03:21:41          22320               0       True  \n",
       "2     2020-05-30 03:21:32          23961               0       True  \n",
       "3     2020-05-30 03:20:18          42879          164022      False  \n",
       "4     2020-05-30 03:19:01          36563               0       True  \n",
       "...                   ...            ...             ...        ...  \n",
       "18462 2017-01-20 17:53:17          60604          218555      False  \n",
       "18463 2017-01-20 17:52:45          42790          180394      False  \n",
       "18464 2017-01-20 17:51:58          18362           91143      False  \n",
       "18465 2017-01-20 17:51:25          20125          109640      False  \n",
       "18466 2017-01-20 12:31:53          70523          268372      False  \n",
       "\n",
       "[18409 rows x 6 columns]"
      ]
     },
     "execution_count": 30,
     "metadata": {},
     "output_type": "execute_result"
    }
   ],
   "source": [
    "def cleaning_stopwords(text):\n",
    "    return \" \".join([word for word in str(text).split() if word not in STOPWORDS])\n",
    "data['text'] = data['text'].apply(lambda text: cleaning_stopwords(text))\n",
    "data"
   ]
  },
  {
   "cell_type": "markdown",
   "id": "08dcfc34",
   "metadata": {},
   "source": [
    "**Removing all the spaces.**"
   ]
  },
  {
   "cell_type": "code",
   "execution_count": 31,
   "id": "f24468d1",
   "metadata": {},
   "outputs": [
    {
     "data": {
      "text/plain": [
       "0        scottadamssays malaria drug zinc missing link ...\n",
       "1        youngdems4trump democrat cities get arrested o...\n",
       "2        youngdems4trump sad poor business owner lost e...\n",
       "3                                        time change! 2020\n",
       "4        tallahfortrump trump spoke church detroit open...\n",
       "                               ...                        \n",
       "18462    january 20th 2017 remembered day people became...\n",
       "18463    truly matters party controls government whethe...\n",
       "18464    power washington dc giving back american peopl...\n",
       "18465    today merely transferring power one administra...\n",
       "18466    begins today! see 1100 swearing-in movement co...\n",
       "Name: text, Length: 18409, dtype: object"
      ]
     },
     "execution_count": 31,
     "metadata": {},
     "output_type": "execute_result"
    }
   ],
   "source": [
    "data['text'] = data['text'].str.strip()\n",
    "data['text']"
   ]
  },
  {
   "cell_type": "markdown",
   "id": "c43778c7",
   "metadata": {},
   "source": [
    "**Question 2 - Inspect and Data Cleaning.**\n",
    "\n",
    "**c) Tokenize: Write code to tokenize your entire dataset. Use at least 2 different types of\n",
    " tokenizers. Compare their results and write your observations.**"
   ]
  },
  {
   "cell_type": "markdown",
   "id": "31a1c6d5",
   "metadata": {},
   "source": [
    " - **Using sentence tokenizer.**"
   ]
  },
  {
   "cell_type": "code",
   "execution_count": 32,
   "id": "065e24d9",
   "metadata": {},
   "outputs": [
    {
     "data": {
      "text/plain": [
       "0        [scottadamssays malaria drug zinc missing link...\n",
       "1        [youngdems4trump democrat cities get arrested ...\n",
       "2        [youngdems4trump sad poor business owner lost ...\n",
       "3                                     [time change!, 2020]\n",
       "4        [tallahfortrump trump spoke church detroit ope...\n",
       "                               ...                        \n",
       "18462    [january 20th 2017 remembered day people becam...\n",
       "18463    [truly matters party controls government wheth...\n",
       "18464    [power washington dc giving back american peop...\n",
       "18465    [today merely transferring power one administr...\n",
       "18466    [begins today!, see 1100 swearing-in movement ...\n",
       "Name: text, Length: 18409, dtype: object"
      ]
     },
     "execution_count": 32,
     "metadata": {},
     "output_type": "execute_result"
    }
   ],
   "source": [
    "sents = data['text'].apply(sent_tokenize)\n",
    "sents"
   ]
  },
  {
   "cell_type": "markdown",
   "id": "b37edbe8",
   "metadata": {},
   "source": [
    " - **Using word tokenizer.**"
   ]
  },
  {
   "cell_type": "code",
   "execution_count": 33,
   "id": "06e779dc",
   "metadata": {},
   "outputs": [
    {
     "data": {
      "text/plain": [
       "[]                                                                                                                                                                                     516\n",
       "[realdonaldtrump]                                                                                                                                                                       69\n",
       "[thank, you, !]                                                                                                                                                                         42\n",
       "[make, america, great, again, !]                                                                                                                                                        36\n",
       "[whitehouse, live, press, briefing, coronavirus, task, force]                                                                                                                           29\n",
       "                                                                                                                                                                                      ... \n",
       "[schiff, dems, created, whole, thing, reverse, engineer, they, ’, ve, vowing, impeach, three, years, listen, want, to, ”, greggutfeld, foxnews]                                          1\n",
       "[order, continue, transparent, president, history, releasing, sometime, week, transcript, first, therefore, important, phone, call, president, ukraine, sure, find, tantalizing, !]      1\n",
       "[like, schiff, fabricated, phone, call, fabricate, transcripts, making, releasing, !]                                                                                                    1\n",
       "[schiff, giving, republicans, witnesses, lawyer, &, amp, ;, due, process, !, totally, one, sided, witch, hunt, can, ’, t, making, democrats, look, good, farce, !]                       1\n",
       "[begins, today, !, see, 1100, swearing-in, movement, continues, -, work, begins, !]                                                                                                      1\n",
       "Name: text, Length: 17214, dtype: int64"
      ]
     },
     "execution_count": 33,
     "metadata": {},
     "output_type": "execute_result"
    }
   ],
   "source": [
    "words = data['text'].apply(word_tokenize)\n",
    "words.value_counts()"
   ]
  },
  {
   "cell_type": "markdown",
   "id": "a982b64f",
   "metadata": {},
   "source": [
    "**Comparing the results and observations.**\n",
    " - Firstly, sentence tokenizer is a tool that breaks the text into individual sentences whereas word tokenizer is a tool that      divides the entire text into words. (if the tweet would have had multiple sentences)\n",
    " - By applying sentence tokenizer, we are able to divide the text into individual sentences and we can analyze the tone of the    individual sentence instead of the whole tweet for more precision.\n",
    " - Whereas, by applying word tokenizer we could just figure out the most used words or least used words which could also help      us in analysis.\n",
    " - As we can see the most occuring word in the data is 'realdonaldtrump'. \n"
   ]
  },
  {
   "cell_type": "markdown",
   "id": "381c06d9",
   "metadata": {},
   "source": [
    "## Question 3- \n",
    "## Learn how to use new python packages or online APIs.\n",
    "**Pick an existing package a library or an API to determine the sentiment (positive, negative,\n",
    "neutral) for each of the tweets in the dataset. You can also use open-source code provided on\n",
    "GitHub repos. DO NOT WRITE THE SENTIMENT ANALYSIS CODE FROM SCRATCH**\n"
   ]
  },
  {
   "cell_type": "markdown",
   "id": "b06241f0",
   "metadata": {},
   "source": [
    "**About Textblob**\n",
    " - TextBlob is a powerful python library for natural language processing (NLP)    tasks, particularly sentiment analysis.\n",
    " - TextBlob assigns a sentiment score to a piece of text, indicating whether it    conveys positive, negative, or neutral sentiment.\n",
    " - ref - https://textblob.readthedocs.io/en/dev/classifiers.html"
   ]
  },
  {
   "cell_type": "code",
   "execution_count": 34,
   "id": "c8ad14ad",
   "metadata": {},
   "outputs": [],
   "source": [
    "def analize_sentiment(tweet):\n",
    "    '''\n",
    "    Utility function to classify the polarity of a tweet\n",
    "    using textblob.\n",
    "    '''\n",
    "    analysis = TextBlob(tweet)\n",
    "    if analysis.sentiment.polarity > 0:\n",
    "        return 1\n",
    "    elif analysis.sentiment.polarity == 0:\n",
    "        return 0\n",
    "    else:\n",
    "        return -1"
   ]
  },
  {
   "cell_type": "code",
   "execution_count": 35,
   "id": "82e66b71",
   "metadata": {},
   "outputs": [],
   "source": [
    "data['sentiment'] = np.array([ analize_sentiment(tweet) for tweet in data['text']])"
   ]
  },
  {
   "cell_type": "code",
   "execution_count": 36,
   "id": "743866f9",
   "metadata": {},
   "outputs": [
    {
     "data": {
      "text/html": [
       "<div>\n",
       "<style scoped>\n",
       "    .dataframe tbody tr th:only-of-type {\n",
       "        vertical-align: middle;\n",
       "    }\n",
       "\n",
       "    .dataframe tbody tr th {\n",
       "        vertical-align: top;\n",
       "    }\n",
       "\n",
       "    .dataframe thead th {\n",
       "        text-align: right;\n",
       "    }\n",
       "</style>\n",
       "<table border=\"1\" class=\"dataframe\">\n",
       "  <thead>\n",
       "    <tr style=\"text-align: right;\">\n",
       "      <th></th>\n",
       "      <th>source</th>\n",
       "      <th>text</th>\n",
       "      <th>created_at</th>\n",
       "      <th>retweet_count</th>\n",
       "      <th>favorite_count</th>\n",
       "      <th>is_retweet</th>\n",
       "      <th>sentiment</th>\n",
       "    </tr>\n",
       "  </thead>\n",
       "  <tbody>\n",
       "    <tr>\n",
       "      <th>0</th>\n",
       "      <td>Twitter for iPhone</td>\n",
       "      <td>scottadamssays malaria drug zinc missing link ...</td>\n",
       "      <td>2020-05-30 03:26:31</td>\n",
       "      <td>10566</td>\n",
       "      <td>0</td>\n",
       "      <td>True</td>\n",
       "      <td>-1</td>\n",
       "    </tr>\n",
       "    <tr>\n",
       "      <th>1</th>\n",
       "      <td>Twitter for iPhone</td>\n",
       "      <td>youngdems4trump democrat cities get arrested o...</td>\n",
       "      <td>2020-05-30 03:21:41</td>\n",
       "      <td>22320</td>\n",
       "      <td>0</td>\n",
       "      <td>True</td>\n",
       "      <td>0</td>\n",
       "    </tr>\n",
       "    <tr>\n",
       "      <th>2</th>\n",
       "      <td>Twitter for iPhone</td>\n",
       "      <td>youngdems4trump sad poor business owner lost e...</td>\n",
       "      <td>2020-05-30 03:21:32</td>\n",
       "      <td>23961</td>\n",
       "      <td>0</td>\n",
       "      <td>True</td>\n",
       "      <td>-1</td>\n",
       "    </tr>\n",
       "    <tr>\n",
       "      <th>3</th>\n",
       "      <td>Twitter for iPhone</td>\n",
       "      <td>time change! 2020</td>\n",
       "      <td>2020-05-30 03:20:18</td>\n",
       "      <td>42879</td>\n",
       "      <td>164022</td>\n",
       "      <td>False</td>\n",
       "      <td>0</td>\n",
       "    </tr>\n",
       "    <tr>\n",
       "      <th>4</th>\n",
       "      <td>Twitter for iPhone</td>\n",
       "      <td>tallahfortrump trump spoke church detroit open...</td>\n",
       "      <td>2020-05-30 03:19:01</td>\n",
       "      <td>36563</td>\n",
       "      <td>0</td>\n",
       "      <td>True</td>\n",
       "      <td>0</td>\n",
       "    </tr>\n",
       "    <tr>\n",
       "      <th>...</th>\n",
       "      <td>...</td>\n",
       "      <td>...</td>\n",
       "      <td>...</td>\n",
       "      <td>...</td>\n",
       "      <td>...</td>\n",
       "      <td>...</td>\n",
       "      <td>...</td>\n",
       "    </tr>\n",
       "    <tr>\n",
       "      <th>18462</th>\n",
       "      <td>Twitter for iPhone</td>\n",
       "      <td>january 20th 2017 remembered day people became...</td>\n",
       "      <td>2017-01-20 17:53:17</td>\n",
       "      <td>60604</td>\n",
       "      <td>218555</td>\n",
       "      <td>False</td>\n",
       "      <td>0</td>\n",
       "    </tr>\n",
       "    <tr>\n",
       "      <th>18463</th>\n",
       "      <td>Twitter for iPhone</td>\n",
       "      <td>truly matters party controls government whethe...</td>\n",
       "      <td>2017-01-20 17:52:45</td>\n",
       "      <td>42790</td>\n",
       "      <td>180394</td>\n",
       "      <td>False</td>\n",
       "      <td>0</td>\n",
       "    </tr>\n",
       "    <tr>\n",
       "      <th>18464</th>\n",
       "      <td>Twitter for iPhone</td>\n",
       "      <td>power washington dc giving back american peopl...</td>\n",
       "      <td>2017-01-20 17:51:58</td>\n",
       "      <td>18362</td>\n",
       "      <td>91143</td>\n",
       "      <td>False</td>\n",
       "      <td>0</td>\n",
       "    </tr>\n",
       "    <tr>\n",
       "      <th>18465</th>\n",
       "      <td>Twitter for iPhone</td>\n",
       "      <td>today merely transferring power one administra...</td>\n",
       "      <td>2017-01-20 17:51:25</td>\n",
       "      <td>20125</td>\n",
       "      <td>109640</td>\n",
       "      <td>False</td>\n",
       "      <td>-1</td>\n",
       "    </tr>\n",
       "    <tr>\n",
       "      <th>18466</th>\n",
       "      <td>Twitter for Android</td>\n",
       "      <td>begins today! see 1100 swearing-in movement co...</td>\n",
       "      <td>2017-01-20 12:31:53</td>\n",
       "      <td>70523</td>\n",
       "      <td>268372</td>\n",
       "      <td>False</td>\n",
       "      <td>0</td>\n",
       "    </tr>\n",
       "  </tbody>\n",
       "</table>\n",
       "<p>18409 rows × 7 columns</p>\n",
       "</div>"
      ],
      "text/plain": [
       "                    source                                               text  \\\n",
       "0       Twitter for iPhone  scottadamssays malaria drug zinc missing link ...   \n",
       "1       Twitter for iPhone  youngdems4trump democrat cities get arrested o...   \n",
       "2       Twitter for iPhone  youngdems4trump sad poor business owner lost e...   \n",
       "3       Twitter for iPhone                                  time change! 2020   \n",
       "4       Twitter for iPhone  tallahfortrump trump spoke church detroit open...   \n",
       "...                    ...                                                ...   \n",
       "18462   Twitter for iPhone  january 20th 2017 remembered day people became...   \n",
       "18463   Twitter for iPhone  truly matters party controls government whethe...   \n",
       "18464   Twitter for iPhone  power washington dc giving back american peopl...   \n",
       "18465   Twitter for iPhone  today merely transferring power one administra...   \n",
       "18466  Twitter for Android  begins today! see 1100 swearing-in movement co...   \n",
       "\n",
       "               created_at  retweet_count  favorite_count is_retweet  sentiment  \n",
       "0     2020-05-30 03:26:31          10566               0       True         -1  \n",
       "1     2020-05-30 03:21:41          22320               0       True          0  \n",
       "2     2020-05-30 03:21:32          23961               0       True         -1  \n",
       "3     2020-05-30 03:20:18          42879          164022      False          0  \n",
       "4     2020-05-30 03:19:01          36563               0       True          0  \n",
       "...                   ...            ...             ...        ...        ...  \n",
       "18462 2017-01-20 17:53:17          60604          218555      False          0  \n",
       "18463 2017-01-20 17:52:45          42790          180394      False          0  \n",
       "18464 2017-01-20 17:51:58          18362           91143      False          0  \n",
       "18465 2017-01-20 17:51:25          20125          109640      False         -1  \n",
       "18466 2017-01-20 12:31:53          70523          268372      False          0  \n",
       "\n",
       "[18409 rows x 7 columns]"
      ]
     },
     "execution_count": 36,
     "metadata": {},
     "output_type": "execute_result"
    }
   ],
   "source": [
    "data"
   ]
  },
  {
   "cell_type": "markdown",
   "id": "82197ff9",
   "metadata": {},
   "source": [
    "## Question 4- Analyze Data Over Time.\n",
    "**How does the sentiment of your corpus change over time? Answer this question by showing plots (at least 2 graphs). Be creative!**\n"
   ]
  },
  {
   "cell_type": "markdown",
   "id": "4d53a589",
   "metadata": {},
   "source": [
    "**Adding ['month'] and ['year'] columns as we would be analyzing the data over time!**"
   ]
  },
  {
   "cell_type": "code",
   "execution_count": 37,
   "id": "e46005dd",
   "metadata": {},
   "outputs": [
    {
     "data": {
      "text/html": [
       "<div>\n",
       "<style scoped>\n",
       "    .dataframe tbody tr th:only-of-type {\n",
       "        vertical-align: middle;\n",
       "    }\n",
       "\n",
       "    .dataframe tbody tr th {\n",
       "        vertical-align: top;\n",
       "    }\n",
       "\n",
       "    .dataframe thead th {\n",
       "        text-align: right;\n",
       "    }\n",
       "</style>\n",
       "<table border=\"1\" class=\"dataframe\">\n",
       "  <thead>\n",
       "    <tr style=\"text-align: right;\">\n",
       "      <th></th>\n",
       "      <th>source</th>\n",
       "      <th>text</th>\n",
       "      <th>created_at</th>\n",
       "      <th>retweet_count</th>\n",
       "      <th>favorite_count</th>\n",
       "      <th>is_retweet</th>\n",
       "      <th>sentiment</th>\n",
       "      <th>month</th>\n",
       "    </tr>\n",
       "  </thead>\n",
       "  <tbody>\n",
       "    <tr>\n",
       "      <th>0</th>\n",
       "      <td>Twitter for iPhone</td>\n",
       "      <td>scottadamssays malaria drug zinc missing link ...</td>\n",
       "      <td>2020-05-30 03:26:31</td>\n",
       "      <td>10566</td>\n",
       "      <td>0</td>\n",
       "      <td>True</td>\n",
       "      <td>-1</td>\n",
       "      <td>5</td>\n",
       "    </tr>\n",
       "    <tr>\n",
       "      <th>1</th>\n",
       "      <td>Twitter for iPhone</td>\n",
       "      <td>youngdems4trump democrat cities get arrested o...</td>\n",
       "      <td>2020-05-30 03:21:41</td>\n",
       "      <td>22320</td>\n",
       "      <td>0</td>\n",
       "      <td>True</td>\n",
       "      <td>0</td>\n",
       "      <td>5</td>\n",
       "    </tr>\n",
       "    <tr>\n",
       "      <th>2</th>\n",
       "      <td>Twitter for iPhone</td>\n",
       "      <td>youngdems4trump sad poor business owner lost e...</td>\n",
       "      <td>2020-05-30 03:21:32</td>\n",
       "      <td>23961</td>\n",
       "      <td>0</td>\n",
       "      <td>True</td>\n",
       "      <td>-1</td>\n",
       "      <td>5</td>\n",
       "    </tr>\n",
       "    <tr>\n",
       "      <th>3</th>\n",
       "      <td>Twitter for iPhone</td>\n",
       "      <td>time change! 2020</td>\n",
       "      <td>2020-05-30 03:20:18</td>\n",
       "      <td>42879</td>\n",
       "      <td>164022</td>\n",
       "      <td>False</td>\n",
       "      <td>0</td>\n",
       "      <td>5</td>\n",
       "    </tr>\n",
       "    <tr>\n",
       "      <th>4</th>\n",
       "      <td>Twitter for iPhone</td>\n",
       "      <td>tallahfortrump trump spoke church detroit open...</td>\n",
       "      <td>2020-05-30 03:19:01</td>\n",
       "      <td>36563</td>\n",
       "      <td>0</td>\n",
       "      <td>True</td>\n",
       "      <td>0</td>\n",
       "      <td>5</td>\n",
       "    </tr>\n",
       "  </tbody>\n",
       "</table>\n",
       "</div>"
      ],
      "text/plain": [
       "               source                                               text  \\\n",
       "0  Twitter for iPhone  scottadamssays malaria drug zinc missing link ...   \n",
       "1  Twitter for iPhone  youngdems4trump democrat cities get arrested o...   \n",
       "2  Twitter for iPhone  youngdems4trump sad poor business owner lost e...   \n",
       "3  Twitter for iPhone                                  time change! 2020   \n",
       "4  Twitter for iPhone  tallahfortrump trump spoke church detroit open...   \n",
       "\n",
       "           created_at  retweet_count  favorite_count is_retweet  sentiment  \\\n",
       "0 2020-05-30 03:26:31          10566               0       True         -1   \n",
       "1 2020-05-30 03:21:41          22320               0       True          0   \n",
       "2 2020-05-30 03:21:32          23961               0       True         -1   \n",
       "3 2020-05-30 03:20:18          42879          164022      False          0   \n",
       "4 2020-05-30 03:19:01          36563               0       True          0   \n",
       "\n",
       "   month  \n",
       "0      5  \n",
       "1      5  \n",
       "2      5  \n",
       "3      5  \n",
       "4      5  "
      ]
     },
     "execution_count": 37,
     "metadata": {},
     "output_type": "execute_result"
    }
   ],
   "source": [
    "months = data['created_at'].dt.month\n",
    "data['month'] =  months\n",
    "data.head()"
   ]
  },
  {
   "cell_type": "code",
   "execution_count": 38,
   "id": "029ece54",
   "metadata": {},
   "outputs": [
    {
     "data": {
      "text/html": [
       "<div>\n",
       "<style scoped>\n",
       "    .dataframe tbody tr th:only-of-type {\n",
       "        vertical-align: middle;\n",
       "    }\n",
       "\n",
       "    .dataframe tbody tr th {\n",
       "        vertical-align: top;\n",
       "    }\n",
       "\n",
       "    .dataframe thead th {\n",
       "        text-align: right;\n",
       "    }\n",
       "</style>\n",
       "<table border=\"1\" class=\"dataframe\">\n",
       "  <thead>\n",
       "    <tr style=\"text-align: right;\">\n",
       "      <th></th>\n",
       "      <th>source</th>\n",
       "      <th>text</th>\n",
       "      <th>created_at</th>\n",
       "      <th>retweet_count</th>\n",
       "      <th>favorite_count</th>\n",
       "      <th>is_retweet</th>\n",
       "      <th>sentiment</th>\n",
       "      <th>month</th>\n",
       "      <th>year</th>\n",
       "    </tr>\n",
       "  </thead>\n",
       "  <tbody>\n",
       "    <tr>\n",
       "      <th>0</th>\n",
       "      <td>Twitter for iPhone</td>\n",
       "      <td>scottadamssays malaria drug zinc missing link ...</td>\n",
       "      <td>2020-05-30 03:26:31</td>\n",
       "      <td>10566</td>\n",
       "      <td>0</td>\n",
       "      <td>True</td>\n",
       "      <td>-1</td>\n",
       "      <td>5</td>\n",
       "      <td>2020</td>\n",
       "    </tr>\n",
       "    <tr>\n",
       "      <th>1</th>\n",
       "      <td>Twitter for iPhone</td>\n",
       "      <td>youngdems4trump democrat cities get arrested o...</td>\n",
       "      <td>2020-05-30 03:21:41</td>\n",
       "      <td>22320</td>\n",
       "      <td>0</td>\n",
       "      <td>True</td>\n",
       "      <td>0</td>\n",
       "      <td>5</td>\n",
       "      <td>2020</td>\n",
       "    </tr>\n",
       "    <tr>\n",
       "      <th>2</th>\n",
       "      <td>Twitter for iPhone</td>\n",
       "      <td>youngdems4trump sad poor business owner lost e...</td>\n",
       "      <td>2020-05-30 03:21:32</td>\n",
       "      <td>23961</td>\n",
       "      <td>0</td>\n",
       "      <td>True</td>\n",
       "      <td>-1</td>\n",
       "      <td>5</td>\n",
       "      <td>2020</td>\n",
       "    </tr>\n",
       "    <tr>\n",
       "      <th>3</th>\n",
       "      <td>Twitter for iPhone</td>\n",
       "      <td>time change! 2020</td>\n",
       "      <td>2020-05-30 03:20:18</td>\n",
       "      <td>42879</td>\n",
       "      <td>164022</td>\n",
       "      <td>False</td>\n",
       "      <td>0</td>\n",
       "      <td>5</td>\n",
       "      <td>2020</td>\n",
       "    </tr>\n",
       "    <tr>\n",
       "      <th>4</th>\n",
       "      <td>Twitter for iPhone</td>\n",
       "      <td>tallahfortrump trump spoke church detroit open...</td>\n",
       "      <td>2020-05-30 03:19:01</td>\n",
       "      <td>36563</td>\n",
       "      <td>0</td>\n",
       "      <td>True</td>\n",
       "      <td>0</td>\n",
       "      <td>5</td>\n",
       "      <td>2020</td>\n",
       "    </tr>\n",
       "  </tbody>\n",
       "</table>\n",
       "</div>"
      ],
      "text/plain": [
       "               source                                               text  \\\n",
       "0  Twitter for iPhone  scottadamssays malaria drug zinc missing link ...   \n",
       "1  Twitter for iPhone  youngdems4trump democrat cities get arrested o...   \n",
       "2  Twitter for iPhone  youngdems4trump sad poor business owner lost e...   \n",
       "3  Twitter for iPhone                                  time change! 2020   \n",
       "4  Twitter for iPhone  tallahfortrump trump spoke church detroit open...   \n",
       "\n",
       "           created_at  retweet_count  favorite_count is_retweet  sentiment  \\\n",
       "0 2020-05-30 03:26:31          10566               0       True         -1   \n",
       "1 2020-05-30 03:21:41          22320               0       True          0   \n",
       "2 2020-05-30 03:21:32          23961               0       True         -1   \n",
       "3 2020-05-30 03:20:18          42879          164022      False          0   \n",
       "4 2020-05-30 03:19:01          36563               0       True          0   \n",
       "\n",
       "   month  year  \n",
       "0      5  2020  \n",
       "1      5  2020  \n",
       "2      5  2020  \n",
       "3      5  2020  \n",
       "4      5  2020  "
      ]
     },
     "execution_count": 38,
     "metadata": {},
     "output_type": "execute_result"
    }
   ],
   "source": [
    "years = data['created_at'].dt.year\n",
    "data['year'] =  years\n",
    "data.head()"
   ]
  },
  {
   "cell_type": "markdown",
   "id": "d779ac9a",
   "metadata": {},
   "source": [
    "**Plotting the overall distribution of the tweets over the whole time period.**\n",
    " - We can say that there were more number of positive tweets considering as a whole.\n",
    " - This answers the question what is the overall tone of tweets posted by Trump given a time-period."
   ]
  },
  {
   "cell_type": "code",
   "execution_count": 39,
   "id": "d907fba3",
   "metadata": {},
   "outputs": [
    {
     "data": {
      "image/png": "[encoded data removed]",
      "text/plain": [
       "<Figure size 1000x600 with 1 Axes>"
      ]
     },
     "metadata": {},
     "output_type": "display_data"
    }
   ],
   "source": [
    "plt.figure(figsize=(10, 6))\n",
    "sns.countplot(x='sentiment', data=data, palette='plasma')\n",
    "plt.title('Overall Distribution')\n",
    "plt.xlabel('Sentiment')\n",
    "plt.ylabel('Count')\n",
    "plt.show()"
   ]
  },
  {
   "cell_type": "markdown",
   "id": "94ae0416",
   "metadata": {},
   "source": [
    "**Plotting the sentiment distribution over the years.**\n",
    " - As seen earlier, there were lot more positive toned tweets comparatively than others and there were more negative toned        tweets in 2019 than positive toned tweets in 2017, 2018 and 2020."
   ]
  },
  {
   "cell_type": "code",
   "execution_count": 40,
   "id": "fb79ec63",
   "metadata": {},
   "outputs": [],
   "source": [
    "grouped = data.groupby(['year', 'sentiment']).size().unstack(fill_value=0)"
   ]
  },
  {
   "cell_type": "code",
   "execution_count": 41,
   "id": "6f015d78",
   "metadata": {},
   "outputs": [],
   "source": [
    "colors = ['Purple', 'Gold', \"Teal\"]"
   ]
  },
  {
   "cell_type": "code",
   "execution_count": 42,
   "id": "f57d4a97",
   "metadata": {},
   "outputs": [
    {
     "data": {
      "image/png": "[encoded data removed]",
      "text/plain": [
       "<Figure size 1000x600 with 1 Axes>"
      ]
     },
     "metadata": {},
     "output_type": "display_data"
    }
   ],
   "source": [
    "grouped.plot(kind='bar', stacked=True, figsize=(10,6), color=colors)\n",
    "plt.title('Sentiment Distribution Over Years')\n",
    "plt.xlabel('Year')\n",
    "plt.ylabel('Number of Tweets')\n",
    "plt.xticks(rotation=0)\n",
    "plt.show()"
   ]
  },
  {
   "cell_type": "markdown",
   "id": "a59d57f3",
   "metadata": {},
   "source": [
    "**Average sentiment over the months.**"
   ]
  },
  {
   "cell_type": "code",
   "execution_count": 43,
   "id": "df2d01f5",
   "metadata": {},
   "outputs": [
    {
     "data": {
      "text/plain": [
       "year\n",
       "2017    0.324104\n",
       "2018    0.370230\n",
       "2019    0.243285\n",
       "2020    0.261165\n",
       "Name: sentiment, dtype: float64"
      ]
     },
     "execution_count": 43,
     "metadata": {},
     "output_type": "execute_result"
    }
   ],
   "source": [
    "average_sentiment_yearly = data.groupby('year')['sentiment'].mean()\n",
    "average_sentiment_yearly"
   ]
  },
  {
   "cell_type": "markdown",
   "id": "ece5b942",
   "metadata": {},
   "source": [
    "**Average sentiment over the years. We are not able infer much about the tone therefore analyzing them monthly.**\n",
    "**Ploting average sentiment over the months.**"
   ]
  },
  {
   "cell_type": "code",
   "execution_count": 44,
   "id": "456a107f",
   "metadata": {},
   "outputs": [
    {
     "data": {
      "text/plain": [
       "0        2020-05\n",
       "1        2020-05\n",
       "2        2020-05\n",
       "3        2020-05\n",
       "4        2020-05\n",
       "          ...   \n",
       "18462    2017-01\n",
       "18463    2017-01\n",
       "18464    2017-01\n",
       "18465    2017-01\n",
       "18466    2017-01\n",
       "Name: yearly_Month, Length: 18409, dtype: period[M]"
      ]
     },
     "execution_count": 44,
     "metadata": {},
     "output_type": "execute_result"
    }
   ],
   "source": [
    "data['yearly_Month']=data['created_at'].dt.to_period('M')\n",
    "data['yearly_Month']"
   ]
  },
  {
   "cell_type": "code",
   "execution_count": 45,
   "id": "2844a7d4",
   "metadata": {},
   "outputs": [
    {
     "data": {
      "image/png": "[encoded data removed]",
      "text/plain": [
       "<Figure size 1000x600 with 1 Axes>"
      ]
     },
     "metadata": {},
     "output_type": "display_data"
    }
   ],
   "source": [
    "average_sentiment_monthly = data.groupby(['year', 'month'])['sentiment'].mean()\n",
    "\n",
    "average_sentiment_monthly = average_sentiment_monthly.reset_index()\n",
    "\n",
    "plt.figure(figsize=(10, 6))\n",
    "plt.plot(average_sentiment_monthly['year'] + average_sentiment_monthly['month'] / 12, average_sentiment_monthly['sentiment'], color='r', linewidth=1)\n",
    "plt.xlabel('Year and Month')\n",
    "plt.ylabel('Average Sentiment')\n",
    "plt.xticks(rotation=90)\n",
    "plt.grid(True, linestyle='--', alpha=0.5)\n",
    "plt.title('Average Sentiment Over Months')\n",
    "plt.xticks(average_sentiment_monthly['year'] + average_sentiment_monthly['month'] / 12, average_sentiment_monthly['year'].astype(str) + '-' + average_sentiment_monthly['month'].astype(str).str.zfill(2))\n",
    "plt.show()"
   ]
  },
  {
   "cell_type": "markdown",
   "id": "154c2d8a",
   "metadata": {},
   "source": [
    "## Question 5- Drawing inference from the plots."
   ]
  },
  {
   "cell_type": "markdown",
   "id": "fd76c3b4",
   "metadata": {},
   "source": [
    "**From the plots we can infer that:**\n",
    " - First and foremost we can answer the main question that how was the            sentiment of the tweets given a particular time period. Sentiment analysis      over the time can reveal trends in the emotional tone of the text data ie      tweets.\n",
    " - We can say that most of his tweets in the given timeframe were positive        toned according to my sentiment analysis.\n",
    " - Comparatively, there were less neutral tweets and even lesser negative          toned tweets.\n",
    " - Tweet frequency patterns can highlight periods of high and low activity.\n",
    " - We can infer some things about tweet frequency like he was active the most      in the year 2019 irrespective of the tone of the tweets.\n",
    " - Also we can see that the most of positive toned tweets were also in the        year 2019.\n",
    " - We have even compared the sentiment categories over the years and changes      in sentiment level could reflect public sentiment towards a particular          topic.\n",
    " - From the last plot we can see the variation in mean sentiment over the months in a given time frame.\n",
    " - We can see the peak in mean sentiment in the begining of the year 2018 and even in the end there might be a chance of          political event or so, that might have led to this variaton."
   ]
  }
 ],
 "metadata": {
  "kernelspec": {
   "display_name": "Python 3 (ipykernel)",
   "language": "python",
   "name": "python3"
  },
  "language_info": {
   "codemirror_mode": {
    "name": "ipython",
    "version": 3
   },
   "file_extension": ".py",
   "mimetype": "text/x-python",
   "name": "python",
   "nbconvert_exporter": "python",
   "pygments_lexer": "ipython3",
   "version": "3.11.4"
  }
 },
 "nbformat": 4,
 "nbformat_minor": 5
}
